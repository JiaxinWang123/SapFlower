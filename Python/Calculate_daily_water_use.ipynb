{
  "nbformat": 4,
  "nbformat_minor": 0,
  "metadata": {
    "colab": {
      "private_outputs": true,
      "provenance": [],
      "authorship_tag": "ABX9TyOKX28RljTuv/UZ3QDLq7Jb",
      "include_colab_link": true
    },
    "kernelspec": {
      "name": "python3",
      "display_name": "Python 3"
    },
    "language_info": {
      "name": "python"
    }
  },
  "cells": [
    {
      "cell_type": "markdown",
      "metadata": {
        "id": "view-in-github",
        "colab_type": "text"
      },
      "source": [
        "<a href=\"https://colab.research.google.com/github/JiaxinWang123/SapFlower/blob/main/Calculate_daily_water_use.ipynb\" target=\"_parent\"><img src=\"https://colab.research.google.com/assets/colab-badge.svg\" alt=\"Open In Colab\"/></a>"
      ]
    },
    {
      "cell_type": "code",
      "source": [
        "from google.colab import drive\n",
        "drive.mount('/content/drive')"
      ],
      "metadata": {
        "id": "KohM_7yh-CBP"
      },
      "execution_count": null,
      "outputs": []
    },
    {
      "cell_type": "code",
      "execution_count": null,
      "metadata": {
        "id": "WOs1Mh4V971q"
      },
      "outputs": [],
      "source": [
        "import pandas as pd\n",
        "\n",
        "# Read the Excel file\n",
        "df = pd.read_excel('/content/drive/MyDrive/Sapflow_daily_water_use/filled_dataset_no_negative.xlsx')\n",
        "\n",
        "# Assuming the K values are in the 6th column\n",
        "K_values = df.iloc[:, 5]\n",
        "\n",
        "# Initialize a list to store calculated water use per 30 minutes for each column\n",
        "water_use_per_30_minutes_columns = []\n",
        "\n",
        "# Iterate over all columns after the 5th column (index 4)\n",
        "for i in range(6, len(df.columns)):\n",
        "    # Calculate water use per second for each column\n",
        "    water_use_per_second = 0.11899 * (df.iloc[:, i] ** 1.231)\n",
        "\n",
        "    # Multiply by 1800 to get water use per 30 minutes\n",
        "    water_use_per_30_minutes = water_use_per_second * 1800\n",
        "\n",
        "    # Store the calculated water use per 30 minutes for the current column\n",
        "    water_use_per_30_minutes_columns.append(water_use_per_30_minutes)\n",
        "\n",
        "# Concatenate all calculated columns into a single DataFrame\n",
        "water_use_per_30_minutes_df = pd.concat(water_use_per_30_minutes_columns, axis=1)\n",
        "\n",
        "# Extract the date from the datetime values in the 'Date' column and format it as mm/dd/yyyy\n",
        "water_use_per_30_minutes_df['Date'] = pd.to_datetime(df['Date']).dt.strftime('%m/%d/%Y')\n",
        "\n",
        "# Reorder columns to have 'Date' as the first column\n",
        "cols = water_use_per_30_minutes_df.columns.tolist()\n",
        "cols = cols[-1:] + cols[:-1]\n",
        "water_use_per_30_minutes_df = water_use_per_30_minutes_df[cols]\n",
        "\n",
        "# Group by the 'Date' column and sum the water use for each day\n",
        "daily_water_use = water_use_per_30_minutes_df.groupby('Date').sum()\n",
        "\n",
        "# Reset index to make 'Date' a column again\n",
        "daily_water_use = daily_water_use.reset_index()\n",
        "\n",
        "# Save the summarized DataFrame to a new Excel file\n",
        "daily_water_use.to_excel('/content/drive/MyDrive/Sapflow_daily_water_use/daily_water_use_multiple_columns.xlsx', index=False)"
      ]
    }
  ]
}