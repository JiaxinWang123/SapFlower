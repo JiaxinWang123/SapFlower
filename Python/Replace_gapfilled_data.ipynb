{
  "nbformat": 4,
  "nbformat_minor": 0,
  "metadata": {
    "colab": {
      "private_outputs": true,
      "provenance": [],
      "mount_file_id": "16u_HrZVT97mFFtFTAhFHnxw_ydBUkmyJ",
      "authorship_tag": "ABX9TyNnTqPPS/6yt00cRjlepxCC",
      "include_colab_link": true
    },
    "kernelspec": {
      "name": "python3",
      "display_name": "Python 3"
    },
    "language_info": {
      "name": "python"
    }
  },
  "cells": [
    {
      "cell_type": "markdown",
      "metadata": {
        "id": "view-in-github",
        "colab_type": "text"
      },
      "source": [
        "<a href=\"https://colab.research.google.com/github/JiaxinWang123/SapFlower/blob/main/Replace_gapfilled_data.ipynb\" target=\"_parent\"><img src=\"https://colab.research.google.com/assets/colab-badge.svg\" alt=\"Open In Colab\"/></a>"
      ]
    },
    {
      "cell_type": "code",
      "execution_count": null,
      "metadata": {
        "id": "YiWuKCQKf1NU"
      },
      "outputs": [],
      "source": [
        "from google.colab import drive\n",
        "import pandas as pd\n",
        "\n",
        "# Mount Google Drive\n",
        "drive.mount('/content/drive')\n",
        "\n",
        "# Load datasets\n",
        "dataset1_path = \"/content/drive/MyDrive/gapfilled_sapflow/Pontotoc_2020_Sapflow_Cleaned_day153_280_removed_outliners.csv\"\n",
        "dataset2_path = \"/content/drive/MyDrive/gapfilled_sapflow/predictions.csv\"\n",
        "\n",
        "dataset1 = pd.read_csv(dataset1_path)\n",
        "dataset2 = pd.read_csv(dataset2_path)\n",
        "\n",
        "# Create a copy of dataset1 to store the filled data\n",
        "filled_dataset = dataset1.copy()\n",
        "\n",
        "# Iterate over columns\n",
        "for column in dataset1.columns:\n",
        "    # Fill missing values in dataset1 with corresponding values from dataset2\n",
        "    missing_mask = dataset1[column].isnull()  # Mask for missing values in dataset1\n",
        "    corresponding_values = dataset2.loc[missing_mask, column]  # Corresponding values from dataset2\n",
        "    filled_dataset.loc[missing_mask, column] = corresponding_values  # Fill missing values in dataset1\n",
        "\n",
        "# Save the filled dataset to Google Drive\n",
        "filled_dataset_path = \"/content/drive/MyDrive/gapfilled_sapflow/filled_dataset.csv\"\n",
        "filled_dataset.to_csv(filled_dataset_path, index=False)\n",
        "\n",
        "print(\"Filled dataset saved to Google Drive.\")\n",
        "\n"
      ]
    }
  ]
}